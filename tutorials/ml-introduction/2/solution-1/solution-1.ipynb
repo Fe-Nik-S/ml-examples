{
 "cells": [
  {
   "cell_type": "code",
   "execution_count": 98,
   "metadata": {},
   "outputs": [],
   "source": [
    "import pandas as pd\n",
    "from sklearn.neighbors import KNeighborsClassifier\n",
    "from sklearn.model_selection import cross_val_score, KFold\n",
    "from sklearn.preprocessing import scale\n",
    "\n",
    "\n",
    "MAX_N_COUNT = 50\n",
    "\n",
    "\n",
    "data = pd.read_csv('wine.data')\n",
    "y = classes = data.iloc[:, 0]\n",
    "X = metrics = data.iloc[:, 1:14]"
   ]
  },
  {
   "cell_type": "code",
   "execution_count": 99,
   "metadata": {},
   "outputs": [],
   "source": [
    "kf = KFold(n_splits=5, shuffle=True, random_state=42)"
   ]
  },
  {
   "cell_type": "code",
   "execution_count": 104,
   "metadata": {},
   "outputs": [],
   "source": [
    "def count_accuracy(train_data, test_data):\n",
    "    scores = []\n",
    "    for idx in range(1, MAX_N_COUNT+1):\n",
    "        knn_model = KNeighborsClassifier(n_neighbors=idx)\n",
    "        score_by_idx = cross_val_score(knn_model, train_data, test_data, cv=kf, scoring='accuracy')\n",
    "        scores.append(round(score_by_idx.mean(), 2))\n",
    "    return scores"
   ]
  },
  {
   "cell_type": "code",
   "execution_count": 105,
   "metadata": {},
   "outputs": [],
   "source": [
    "scores = count_accuracy(metrics, classes)"
   ]
  },
  {
   "cell_type": "code",
   "execution_count": 106,
   "metadata": {},
   "outputs": [
    {
     "name": "stdout",
     "output_type": "stream",
     "text": [
      "0.74\n"
     ]
    }
   ],
   "source": [
    "# test-2\n",
    "\n",
    "max_score = max(scores)\n",
    "print(max_score)"
   ]
  },
  {
   "cell_type": "code",
   "execution_count": 107,
   "metadata": {},
   "outputs": [
    {
     "name": "stdout",
     "output_type": "stream",
     "text": [
      "[0.74, 0.67, 0.72, 0.65, 0.71, 0.69, 0.72, 0.7, 0.71, 0.68, 0.68, 0.68, 0.72, 0.72, 0.74, 0.73, 0.73, 0.73, 0.72, 0.73, 0.71, 0.71, 0.71, 0.72, 0.73, 0.72, 0.73, 0.73, 0.72, 0.72, 0.72, 0.72, 0.72, 0.71, 0.71, 0.7, 0.71, 0.7, 0.71, 0.71, 0.71, 0.71, 0.71, 0.7, 0.7, 0.71, 0.7, 0.7, 0.7, 0.7]\n",
      "1\n"
     ]
    }
   ],
   "source": [
    "# test-1\n",
    "\n",
    "max_index_arr = scores.index(max_score)\n",
    "print(scores)\n",
    "print(max_index_arr + 1)"
   ]
  },
  {
   "cell_type": "code",
   "execution_count": 109,
   "metadata": {},
   "outputs": [
    {
     "name": "stdout",
     "output_type": "stream",
     "text": [
      "0.98\n"
     ]
    }
   ],
   "source": [
    "# test-3\n",
    "\n",
    "normalized_X = scale(X)\n",
    "scores = count_accuracy(normalized_X, y)\n",
    "\n",
    "max_score = max(scores)\n",
    "print(max_score)"
   ]
  },
  {
   "cell_type": "code",
   "execution_count": 110,
   "metadata": {},
   "outputs": [
    {
     "name": "stdout",
     "output_type": "stream",
     "text": [
      "[0.95, 0.94, 0.94, 0.94, 0.95, 0.95, 0.97, 0.97, 0.96, 0.97, 0.96, 0.96, 0.96, 0.96, 0.97, 0.96, 0.96, 0.96, 0.97, 0.97, 0.97, 0.96, 0.97, 0.97, 0.97, 0.97, 0.97, 0.98, 0.98, 0.98, 0.98, 0.98, 0.98, 0.98, 0.98, 0.98, 0.98, 0.97, 0.97, 0.97, 0.97, 0.97, 0.97, 0.97, 0.97, 0.97, 0.97, 0.97, 0.97, 0.97]\n",
      "28\n"
     ]
    }
   ],
   "source": [
    "# test-4\n",
    "\n",
    "max_index_arr = scores.index(max_score)\n",
    "print(scores)\n",
    "print(max_index_arr + 1)"
   ]
  }
 ],
 "metadata": {
  "kernelspec": {
   "display_name": "Python 3",
   "language": "python",
   "name": "python3"
  },
  "language_info": {
   "codemirror_mode": {
    "name": "ipython",
    "version": 3
   },
   "file_extension": ".py",
   "mimetype": "text/x-python",
   "name": "python",
   "nbconvert_exporter": "python",
   "pygments_lexer": "ipython3",
   "version": "3.8.2"
  },
  "pycharm": {
   "stem_cell": {
    "cell_type": "raw",
    "source": [
     "\n"
    ],
    "metadata": {
     "collapsed": false
    }
   }
  }
 },
 "nbformat": 4,
 "nbformat_minor": 1
}