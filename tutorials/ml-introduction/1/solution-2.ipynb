{
 "cells": [
  {
   "cell_type": "code",
   "execution_count": 5,
   "metadata": {},
   "outputs": [
    {
     "name": "stdout",
     "output_type": "stream",
     "text": [
      "[0.14851989 0.28561828 0.26534962 0.30051221]\n"
     ]
    }
   ],
   "source": [
    "import numpy as np\n",
    "import pandas\n",
    "from sklearn.tree import DecisionTreeClassifier\n",
    "\n",
    "data = pandas.read_csv('titanic.csv')\n",
    "data = data[~np.isnan(data[\"Age\"])]\n",
    "\n",
    "X = np.array([\n",
    "    data[\"Pclass\"],\n",
    "    data[\"Fare\"],\n",
    "    data[\"Age\"],\n",
    "    list(map(lambda x: 1 if x == \"male\" else 0, data[\"Sex\"]))\n",
    "])\n",
    "X = np.transpose(X)\n",
    "y = np.array(data[\"Survived\"])\n",
    "\n",
    "clf = DecisionTreeClassifier()\n",
    "res = clf.fit(X, y)\n",
    "print(clf.feature_importances_)"
   ]
  },
  {
   "cell_type": "code",
   "execution_count": null,
   "metadata": {},
   "outputs": [],
   "source": []
  }
 ],
 "metadata": {
  "kernelspec": {
   "display_name": "Python 3",
   "language": "python",
   "name": "python3"
  },
  "language_info": {
   "codemirror_mode": {
    "name": "ipython",
    "version": 3
   },
   "file_extension": ".py",
   "mimetype": "text/x-python",
   "name": "python",
   "nbconvert_exporter": "python",
   "pygments_lexer": "ipython3",
   "version": "3.8.2"
  }
 },
 "nbformat": 4,
 "nbformat_minor": 4
}
