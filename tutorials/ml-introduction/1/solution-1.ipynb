{
 "cells": [
  {
   "cell_type": "code",
   "execution_count": 1,
   "metadata": {},
   "outputs": [],
   "source": [
    "import pandas\n",
    "data = pandas.read_csv('titanic.csv')"
   ]
  },
  {
   "cell_type": "code",
   "execution_count": 3,
   "metadata": {
    "scrolled": true
   },
   "outputs": [
    {
     "data": {
      "text/plain": [
       "(577, 314)"
      ]
     },
     "execution_count": 3,
     "metadata": {},
     "output_type": "execute_result"
    }
   ],
   "source": [
    "# task-1\n",
    "\n",
    "male_data = data[data['Sex'] == 'male']\n",
    "female_data = data[data['Sex'] == 'female']\n",
    "\n",
    "len(male_data), len(female_data)"
   ]
  },
  {
   "cell_type": "code",
   "execution_count": 4,
   "metadata": {},
   "outputs": [
    {
     "data": {
      "text/plain": [
       "(891, 342, 38.38)"
      ]
     },
     "execution_count": 4,
     "metadata": {},
     "output_type": "execute_result"
    }
   ],
   "source": [
    "# task-2\n",
    "\n",
    "all_count = len(data)\n",
    "survived_count = len(data[data['Survived'] == 1])\n",
    "all_count, survived_count, round(survived_count/all_count*100, 2)"
   ]
  },
  {
   "cell_type": "code",
   "execution_count": 5,
   "metadata": {},
   "outputs": [
    {
     "data": {
      "text/plain": [
       "(891, 216, 24.24)"
      ]
     },
     "execution_count": 5,
     "metadata": {},
     "output_type": "execute_result"
    }
   ],
   "source": [
    "# task-3\n",
    "\n",
    "first_class_count = len(data[data['Pclass'] == 1])\n",
    "all_count, first_class_count, round(first_class_count/all_count*100, 2)"
   ]
  },
  {
   "cell_type": "code",
   "execution_count": 6,
   "metadata": {},
   "outputs": [
    {
     "data": {
      "text/plain": [
       "(29.7, 28)"
      ]
     },
     "execution_count": 6,
     "metadata": {},
     "output_type": "execute_result"
    }
   ],
   "source": [
    "# task-4\n",
    "\n",
    "ages = data['Age']\n",
    "avg_age = ages.mean()\n",
    "med_age = ages.median()\n",
    "\n",
    "round(avg_age, 2), round(med_age)"
   ]
  },
  {
   "cell_type": "code",
   "execution_count": 7,
   "metadata": {},
   "outputs": [
    {
     "data": {
      "text/html": [
       "<div>\n",
       "<style scoped>\n",
       "    .dataframe tbody tr th:only-of-type {\n",
       "        vertical-align: middle;\n",
       "    }\n",
       "\n",
       "    .dataframe tbody tr th {\n",
       "        vertical-align: top;\n",
       "    }\n",
       "\n",
       "    .dataframe thead th {\n",
       "        text-align: right;\n",
       "    }\n",
       "</style>\n",
       "<table border=\"1\" class=\"dataframe\">\n",
       "  <thead>\n",
       "    <tr style=\"text-align: right;\">\n",
       "      <th></th>\n",
       "      <th>SibSp</th>\n",
       "      <th>Parch</th>\n",
       "    </tr>\n",
       "  </thead>\n",
       "  <tbody>\n",
       "    <tr>\n",
       "      <th>SibSp</th>\n",
       "      <td>1.000000</td>\n",
       "      <td>0.414838</td>\n",
       "    </tr>\n",
       "    <tr>\n",
       "      <th>Parch</th>\n",
       "      <td>0.414838</td>\n",
       "      <td>1.000000</td>\n",
       "    </tr>\n",
       "  </tbody>\n",
       "</table>\n",
       "</div>"
      ],
      "text/plain": [
       "          SibSp     Parch\n",
       "SibSp  1.000000  0.414838\n",
       "Parch  0.414838  1.000000"
      ]
     },
     "execution_count": 7,
     "metadata": {},
     "output_type": "execute_result"
    }
   ],
   "source": [
    "# task-5\n",
    "\n",
    "corr_by_pirson = data[['SibSp', 'Parch']].corr()\n",
    "corr_by_pirson"
   ]
  },
  {
   "cell_type": "code",
   "execution_count": 10,
   "metadata": {},
   "outputs": [
    {
     "data": {
      "text/plain": [
       "Anna          14\n",
       "Mary          13\n",
       "Margaret      10\n",
       "Elizabeth     10\n",
       "Alice          6\n",
       "              ..\n",
       "Alfrida        1\n",
       "Erna           1\n",
       "Lyyli          1\n",
       "Eva            1\n",
       "Catherine)     1\n",
       "Name: Name, Length: 186, dtype: int64"
      ]
     },
     "execution_count": 10,
     "metadata": {},
     "output_type": "execute_result"
    }
   ],
   "source": [
    "# task-6\n",
    "data = pandas.read_csv('titanic.csv')\n",
    "data = data[data['Sex'] == 'female']\n",
    "\n",
    "def normalize_name(name):\n",
    "    separator = \" \"\n",
    "    if \"(\" in name:\n",
    "        name = name.split(\"(\")[1].strip()\n",
    "    if \".\" in name:\n",
    "        name = name.split(\".\")[1].strip()\n",
    "    result = name.split(\" \")[0].strip()\n",
    "    return result\n",
    "\n",
    "\n",
    "data = data['Name'].map(lambda x : normalize_name(x)) \n",
    "freq_name = data.value_counts()\n",
    "freq_name"
   ]
  },
  {
   "cell_type": "code",
   "execution_count": null,
   "outputs": [],
   "source": [],
   "metadata": {
    "collapsed": false,
    "pycharm": {
     "name": "#%%\n"
    }
   }
  },
  {
   "cell_type": "code",
   "execution_count": null,
   "metadata": {},
   "outputs": [],
   "source": []
  }
 ],
 "metadata": {
  "kernelspec": {
   "display_name": "Python 3",
   "language": "python",
   "name": "python3"
  },
  "language_info": {
   "codemirror_mode": {
    "name": "ipython",
    "version": 3
   },
   "file_extension": ".py",
   "mimetype": "text/x-python",
   "name": "python",
   "nbconvert_exporter": "python",
   "pygments_lexer": "ipython3",
   "version": "3.8.2"
  }
 },
 "nbformat": 4,
 "nbformat_minor": 4
}